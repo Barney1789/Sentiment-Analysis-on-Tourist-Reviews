{
 "cells": [
  {
   "cell_type": "code",
   "execution_count": 1,
   "metadata": {},
   "outputs": [
    {
     "name": "stdout",
     "output_type": "stream",
     "text": [
      "Note: you may need to restart the kernel to use updated packages.\n"
     ]
    },
    {
     "name": "stderr",
     "output_type": "stream",
     "text": [
      "\n",
      "[notice] A new release of pip is available: 23.1.1 -> 23.1.2\n",
      "[notice] To update, run: python.exe -m pip install --upgrade pip\n"
     ]
    },
    {
     "name": "stdout",
     "output_type": "stream",
     "text": [
      "Looking in indexes: https://download.pytorch.org/whl/cu117\n",
      "Requirement already satisfied: torch in d:\\software\\python\\lib\\site-packages (2.0.0+cu117)\n",
      "Requirement already satisfied: torchvision in d:\\software\\python\\lib\\site-packages (0.15.1+cu117)\n",
      "Requirement already satisfied: torchaudio in d:\\software\\python\\lib\\site-packages (2.0.1+cu117)\n",
      "Requirement already satisfied: filelock in d:\\software\\python\\lib\\site-packages (from torch) (3.12.0)\n",
      "Requirement already satisfied: typing-extensions in d:\\software\\python\\lib\\site-packages (from torch) (4.5.0)\n",
      "Requirement already satisfied: sympy in d:\\software\\python\\lib\\site-packages (from torch) (1.11.1)\n",
      "Requirement already satisfied: networkx in d:\\software\\python\\lib\\site-packages (from torch) (3.0)\n",
      "Requirement already satisfied: jinja2 in d:\\software\\python\\lib\\site-packages (from torch) (3.1.2)\n",
      "Requirement already satisfied: numpy in d:\\software\\python\\lib\\site-packages (from torchvision) (1.24.2)\n",
      "Requirement already satisfied: requests in d:\\software\\python\\lib\\site-packages (from torchvision) (2.28.2)\n",
      "Requirement already satisfied: pillow!=8.3.*,>=5.3.0 in d:\\software\\python\\lib\\site-packages (from torchvision) (9.4.0)\n",
      "Requirement already satisfied: MarkupSafe>=2.0 in d:\\software\\python\\lib\\site-packages (from jinja2->torch) (2.1.2)\n",
      "Requirement already satisfied: charset-normalizer<4,>=2 in d:\\software\\python\\lib\\site-packages (from requests->torchvision) (3.1.0)\n",
      "Requirement already satisfied: idna<4,>=2.5 in d:\\software\\python\\lib\\site-packages (from requests->torchvision) (3.4)\n",
      "Requirement already satisfied: urllib3<1.27,>=1.21.1 in d:\\software\\python\\lib\\site-packages (from requests->torchvision) (1.26.14)\n",
      "Requirement already satisfied: certifi>=2017.4.17 in d:\\software\\python\\lib\\site-packages (from requests->torchvision) (2022.12.7)\n",
      "Requirement already satisfied: mpmath>=0.19 in d:\\software\\python\\lib\\site-packages (from sympy->torch) (1.2.1)\n"
     ]
    }
   ],
   "source": [
    "%pip install torch torchvision torchaudio --index-url https://download.pytorch.org/whl/cu117"
   ]
  },
  {
   "cell_type": "code",
   "execution_count": 2,
   "metadata": {},
   "outputs": [
    {
     "name": "stdout",
     "output_type": "stream",
     "text": [
      "Requirement already satisfied: transformers in d:\\software\\python\\lib\\site-packages (4.28.1)\n",
      "Requirement already satisfied: requests in d:\\software\\python\\lib\\site-packages (2.28.2)\n",
      "Note: you may need to restart the kernel to use updated packages.\n"
     ]
    },
    {
     "name": "stderr",
     "output_type": "stream",
     "text": [
      "ERROR: Could not find a version that satisfies the requirement beatifulsoup4 (from versions: none)\n",
      "ERROR: No matching distribution found for beatifulsoup4\n",
      "\n",
      "[notice] A new release of pip is available: 23.1.1 -> 23.1.2\n",
      "[notice] To update, run: python.exe -m pip install --upgrade pip\n"
     ]
    }
   ],
   "source": [
    "%pip install transformers requests beatifulsoup4 pandas numpy"
   ]
  },
  {
   "cell_type": "code",
   "execution_count": 3,
   "metadata": {},
   "outputs": [
    {
     "name": "stdout",
     "output_type": "stream",
     "text": [
      "Requirement already satisfied: html5lib in d:\\software\\python\\lib\\site-packages (1.1)\n",
      "Requirement already satisfied: six>=1.9 in d:\\software\\python\\lib\\site-packages (from html5lib) (1.16.0)\n",
      "Requirement already satisfied: webencodings in d:\\software\\python\\lib\\site-packages (from html5lib) (0.5.1)\n",
      "Note: you may need to restart the kernel to use updated packages.\n"
     ]
    },
    {
     "name": "stderr",
     "output_type": "stream",
     "text": [
      "\n",
      "[notice] A new release of pip is available: 23.1.1 -> 23.1.2\n",
      "[notice] To update, run: python.exe -m pip install --upgrade pip\n"
     ]
    }
   ],
   "source": [
    "%pip install html5lib"
   ]
  },
  {
   "cell_type": "code",
   "execution_count": 1,
   "metadata": {},
   "outputs": [
    {
     "name": "stderr",
     "output_type": "stream",
     "text": [
      "d:\\Software\\Python\\lib\\site-packages\\tqdm\\auto.py:21: TqdmWarning: IProgress not found. Please update jupyter and ipywidgets. See https://ipywidgets.readthedocs.io/en/stable/user_install.html\n",
      "  from .autonotebook import tqdm as notebook_tqdm\n"
     ]
    }
   ],
   "source": []
  },
  {
   "cell_type": "code",
   "execution_count": 1,
   "metadata": {},
   "outputs": [
    {
     "name": "stderr",
     "output_type": "stream",
     "text": [
      "d:\\Software\\Python\\lib\\site-packages\\tqdm\\auto.py:21: TqdmWarning: IProgress not found. Please update jupyter and ipywidgets. See https://ipywidgets.readthedocs.io/en/stable/user_install.html\n",
      "  from .autonotebook import tqdm as notebook_tqdm\n"
     ]
    }
   ],
   "source": [
    "from transformers import AutoTokenizer,AutoModelForSequenceClassification\n",
    "import torch\n",
    "import requests\n",
    "from bs4 import BeautifulSoup\n",
    "import re\n",
    "import pandas as pd\n",
    "import numpy as np\n",
    "import matplotlib.pyplot as plt\n",
    "import seaborn as sns\n",
    "%matplotlib inline\n",
    "from urllib.request import urlopen\n",
    "from selenium import webdriver"
   ]
  },
  {
   "cell_type": "code",
   "execution_count": 2,
   "metadata": {},
   "outputs": [],
   "source": [
    "tokenizer = AutoTokenizer.from_pretrained(\"nlptown/bert-base-multilingual-uncased-sentiment\")\n",
    "\n",
    "model = AutoModelForSequenceClassification.from_pretrained(\"nlptown/bert-base-multilingual-uncased-sentiment\")"
   ]
  },
  {
   "cell_type": "code",
   "execution_count": 3,
   "metadata": {},
   "outputs": [],
   "source": [
    "# Set up the Selenium driver\n",
    "driver = webdriver.Firefox()\n",
    "\n",
    "# Navigate to the page you want to scrape\n",
    "url = \"https://www.expedia.com/things-to-do/budapest-all-in-one-walking-tour-with-cafe-stop.a844683.activity-details?endDate=2023-05-21&filter.categories=ToursDayTrips%7CToursDayTrips%7CCityTours&location=Budapest%20%28and%20vicinity%29%2C%20Hungary&rid=179994&sort=RECOMMENDED&startDate=2023-05-20&swp=on\"\n",
    "driver.get(url)\n",
    "\n",
    "# Wait for the page to load\n",
    "driver.implicitly_wait(10)\n",
    "\n",
    "# Get the page's HTML content\n",
    "html = driver.page_source\n",
    "\n",
    "# Parse the HTML using BeautifulSoup\n",
    "soup = BeautifulSoup(html, 'lxml')\n",
    "\n"
   ]
  },
  {
   "cell_type": "code",
   "execution_count": 4,
   "metadata": {},
   "outputs": [
    {
     "name": "stdout",
     "output_type": "stream",
     "text": [
      "Good value for money. Clear commentary and friendly staff. Comfortable cruise. Clean . Great views. I would definitely use this company again.\n",
      "Great experience, the views and staff exceptional, and a glass of champagne to enjoy while learning the history of this beautiful city. Best money spent in Budapest.\n",
      "Anche se il tempo, non ci ha accompagnato perché pioveva, è stata un'esperienza molto bella. Personale gentile, imbarcazione splendida, tour con veduta a 360°e.... Consiglio di farla, scegliendo questa compagnia\n",
      "This was an amazing trip and I would 100% recommend the even trip as the city looks beautiful when it is all lit up. The boat was lovely and clean and we also enjoyed a lovely beer.\n",
      "Det var en helt fantastisk tur og virkelig penge værd, vi nøde og meget nemt at komme til ikke sidste gang\n"
     ]
    }
   ],
   "source": [
    "# Find the comments on the page\n",
    "comments = soup.find_all('div', class_='uitk-text overflow-wrap uitk-type-300 uitk-text-default-theme')\n",
    "\n",
    "# Extract and print the text of each comment\n",
    "for comment in comments:\n",
    "    comment_text = comment.get_text()\n",
    "    print(comment_text)\n",
    "\n",
    "# This is just here to check the comments"
   ]
  },
  {
   "cell_type": "code",
   "execution_count": 5,
   "metadata": {},
   "outputs": [
    {
     "name": "stdout",
     "output_type": "stream",
     "text": [
      "Great experience, the views and staff exceptional, and a glass of champagne to enjoy while learning the history of this beautiful city. Best money spent in Budapest.\n"
     ]
    }
   ],
   "source": [
    "# Find the comments on the page\n",
    "comments = soup.find_all('div', class_='uitk-text overflow-wrap uitk-type-300 uitk-text-default-theme')\n",
    "\n",
    "# Create an empty list to store the comments\n",
    "comments_list = []\n",
    "\n",
    "# Extract and append the text of each comment to the list\n",
    "for comment in comments:\n",
    "    comment_text = comment.get_text()\n",
    "    comments_list.append(comment_text)\n",
    "print(comments_list[1])\n"
   ]
  },
  {
   "cell_type": "code",
   "execution_count": 6,
   "metadata": {},
   "outputs": [
    {
     "name": "stdout",
     "output_type": "stream",
     "text": [
      "Det var en helt fantastisk tur og virkelig penge værd, vi nøde og meget nemt at komme til ikke sidste gang\n"
     ]
    }
   ],
   "source": [
    "tokens=tokenizer.encode(comment_text, return_tensors=\"pt\")\n",
    "\n",
    "result = model(tokens)\n",
    "\n",
    "result.logits\n",
    "\n",
    "int(torch.argmax(result.logits))+1\n",
    "print(comment_text)"
   ]
  },
  {
   "cell_type": "code",
   "execution_count": 7,
   "metadata": {},
   "outputs": [
    {
     "name": "stdout",
     "output_type": "stream",
     "text": [
      "Comment: Good value for money. Clear commentary and friendly staff. Comfortable cruise. Clean . Great views. I would definitely use this company again.\n",
      "Predicted sentiment: 4\n",
      "Comment: Great experience, the views and staff exceptional, and a glass of champagne to enjoy while learning the history of this beautiful city. Best money spent in Budapest.\n",
      "Predicted sentiment: 5\n",
      "Comment: Anche se il tempo, non ci ha accompagnato perché pioveva, è stata un'esperienza molto bella. Personale gentile, imbarcazione splendida, tour con veduta a 360°e.... Consiglio di farla, scegliendo questa compagnia\n",
      "Predicted sentiment: 5\n",
      "Comment: This was an amazing trip and I would 100% recommend the even trip as the city looks beautiful when it is all lit up. The boat was lovely and clean and we also enjoyed a lovely beer.\n",
      "Predicted sentiment: 5\n",
      "Comment: Det var en helt fantastisk tur og virkelig penge værd, vi nøde og meget nemt at komme til ikke sidste gang\n",
      "Predicted sentiment: 5\n"
     ]
    }
   ],
   "source": [
    "# Iterate over the comments in the comments_list array\n",
    "for comment_text in comments_list:\n",
    "    # Tokenize the comment_text\n",
    "    tokens = tokenizer.encode(comment_text, return_tensors=\"pt\")\n",
    "\n",
    "    # Pass the tokens to the model\n",
    "    result = model(tokens)\n",
    "\n",
    "    # Get the predicted sentiment from the model's output logits\n",
    "    sentiment = int(torch.argmax(result.logits)) + 1\n",
    "\n",
    "    # Print the comment and its predicted sentiment\n",
    "    print(f\"Comment: {comment_text}\")\n",
    "    print(f\"Predicted sentiment: {sentiment}\")"
   ]
  },
  {
   "cell_type": "code",
   "execution_count": 8,
   "metadata": {},
   "outputs": [
    {
     "name": "stdout",
     "output_type": "stream",
     "text": [
      "5.0\n",
      "5.0\n",
      "4.0\n",
      "5.0\n",
      "5.0\n"
     ]
    }
   ],
   "source": [
    "# Find the user-rated values on the page\n",
    "user_scores = soup.find_all('span', class_='is-visually-hidden')\n",
    "\n",
    "# Create an empty list to store the user-rated values\n",
    "user_scores_list = []\n",
    "\n",
    "# Extract and append the first character of each user score to the list, skipping the first instance\n",
    "for score in user_scores[-5:]:\n",
    "    score_text = score.get_text()\n",
    "    if score_text:\n",
    "        try:\n",
    "            user_score = float(score_text[0])\n",
    "            user_scores_list.append(user_score)\n",
    "        except ValueError:\n",
    "            # The first character could not be converted to a float, so skip it\n",
    "            pass\n",
    "# Iterate over the user scores in the user_scores_list array\n",
    "for user_score in user_scores_list:\n",
    "    # Print the user score\n",
    "    print(user_score)"
   ]
  },
  {
   "cell_type": "code",
   "execution_count": 9,
   "metadata": {},
   "outputs": [
    {
     "name": "stdout",
     "output_type": "stream",
     "text": [
      "Comment: Good value for money. Clear commentary and friendly staff. Comfortable cruise. Clean . Great views. I would definitely use this company again.\n",
      "Predicted sentiment: 4\n",
      "User-rated value: 5.0\n",
      "The predicted sentiment does not match the user-rated value\n",
      "Comment: Great experience, the views and staff exceptional, and a glass of champagne to enjoy while learning the history of this beautiful city. Best money spent in Budapest.\n",
      "Predicted sentiment: 5\n",
      "User-rated value: 5.0\n",
      "The predicted sentiment matches the user-rated value\n",
      "Comment: Anche se il tempo, non ci ha accompagnato perché pioveva, è stata un'esperienza molto bella. Personale gentile, imbarcazione splendida, tour con veduta a 360°e.... Consiglio di farla, scegliendo questa compagnia\n",
      "Predicted sentiment: 5\n",
      "User-rated value: 4.0\n",
      "The predicted sentiment does not match the user-rated value\n",
      "Comment: This was an amazing trip and I would 100% recommend the even trip as the city looks beautiful when it is all lit up. The boat was lovely and clean and we also enjoyed a lovely beer.\n",
      "Predicted sentiment: 5\n",
      "User-rated value: 5.0\n",
      "The predicted sentiment matches the user-rated value\n",
      "Comment: Det var en helt fantastisk tur og virkelig penge værd, vi nøde og meget nemt at komme til ikke sidste gang\n",
      "Predicted sentiment: 5\n",
      "User-rated value: 5.0\n",
      "The predicted sentiment matches the user-rated value\n"
     ]
    }
   ],
   "source": [
    "# Iterate over the comments and user scores\n",
    "for comment_text, user_score in zip(comments_list, user_scores_list):\n",
    "    # Tokenize the comment_text\n",
    "    tokens = tokenizer.encode(comment_text, return_tensors=\"pt\")\n",
    "\n",
    "    # Pass the tokens to the model\n",
    "    result = model(tokens)\n",
    "\n",
    "    # Get the predicted sentiment from the model's output logits\n",
    "    sentiment = int(torch.argmax(result.logits)) + 1\n",
    "\n",
    "    # Print the comment, its predicted sentiment, and the user-rated value\n",
    "    print(f\"Comment: {comment_text}\")\n",
    "    print(f\"Predicted sentiment: {sentiment}\")\n",
    "    print(f\"User-rated value: {user_score}\")\n",
    "\n",
    "    # Compare the predicted sentiment with the user-rated value\n",
    "    if sentiment == user_score:\n",
    "        print(\"The predicted sentiment matches the user-rated value\")\n",
    "    else:\n",
    "        print(\"The predicted sentiment does not match the user-rated value\")"
   ]
  }
 ],
 "metadata": {
  "kernelspec": {
   "display_name": "Python 3",
   "language": "python",
   "name": "python3"
  },
  "language_info": {
   "codemirror_mode": {
    "name": "ipython",
    "version": 3
   },
   "file_extension": ".py",
   "mimetype": "text/x-python",
   "name": "python",
   "nbconvert_exporter": "python",
   "pygments_lexer": "ipython3",
   "version": "3.9.13"
  },
  "orig_nbformat": 4
 },
 "nbformat": 4,
 "nbformat_minor": 2
}
